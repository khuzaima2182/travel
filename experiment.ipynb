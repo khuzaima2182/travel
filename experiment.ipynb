{
 "cells": [
  {
   "cell_type": "code",
   "execution_count": 1,
   "metadata": {},
   "outputs": [
    {
     "name": "stderr",
     "output_type": "stream",
     "text": [
      "c:\\Users\\user\\Desktop\\Itinerary Generator\\env\\Lib\\site-packages\\tqdm\\auto.py:21: TqdmWarning: IProgress not found. Please update jupyter and ipywidgets. See https://ipywidgets.readthedocs.io/en/stable/user_install.html\n",
      "  from .autonotebook import tqdm as notebook_tqdm\n"
     ]
    },
    {
     "name": "stdout",
     "output_type": "stream",
     "text": [
      "A                                                                                                                                              A                                                                                                                                              A                                                                                                                                              \n",
      "CHITRAL:CHITRAL:CHITRAL:\n",
      "THE CENTRAL ASIAN SAGA THE CENTRAL ASIAN SAGA THE CENTRAL ASIAN SAGA \n",
      "Amir Khan\n",
      "PHOTO:\n",
      "TOURISM\n",
      "CORPORATIONKHYBER PAKHTUNKHWA\n",
      "THE CENTRAL \n",
      "ASIAN SAGA\n",
      "CHITRAL VALLEY\n",
      "TRAVEL GUIDE\n",
      "CHITRAL:\n",
      "NOT FOR SALE\n",
      "YEAR PRINTED 2018\n",
      "DESIGN: CREATIVE WING - TCKP, PAKISTAN\n",
      "Qr CODE.\n",
      "SCAN FOR\n",
      "DETAILS\n",
      "Khyber Pakhtunkhwa\n",
      "Federally Administered Areas\n",
      "and BalochistanMul\u0000-Donor Trust Fund\n",
      "SUPPORTED BY ERKF - KP\n",
      "TOURISM\n",
      "CORPORATIONKHYBER PAKHTUNKHWA\n",
      "TCKP-Tourist Information Centre,\n",
      "Peshawar Museum, Peshawar, Pakistan\n",
      "Contact: \n",
      "Tel: +92-91-9213762\n",
      "Fax: +92-91-9210009\n",
      "E-Mail: info@kptourism.com\n",
      "Website: www.kptourism.com\n"
     ]
    }
   ],
   "source": [
    "from llama_index.llms.gemini import Gemini\n",
    "import google.generativeai as genai\n",
    "from llama_index.core import SimpleDirectoryReader\n",
    "from llama_index.core import VectorStoreIndex\n",
    "from IPython.display import Markdown, display\n",
    "from llama_index.core import Settings\n",
    "from llama_index.core import StorageContext, load_index_from_storage\n",
    "from llama_index.embeddings.gemini import GeminiEmbedding\n",
    "\n",
    "documents = SimpleDirectoryReader(r'C:\\Users\\user\\Desktop\\Itinerary Generator\\Data').load_data()\n",
    "doc = documents\n",
    "print(doc[0].text)"
   ]
  },
  {
   "cell_type": "code",
   "execution_count": 2,
   "metadata": {},
   "outputs": [],
   "source": [
    "gemini_embed_model = GeminiEmbedding(model_name = \"models/embedding-001\")"
   ]
  },
  {
   "cell_type": "code",
   "execution_count": 3,
   "metadata": {},
   "outputs": [],
   "source": [
    "import os\n",
    "google_api_key = os.getenv(\"GOOGLE_API_KEY\")"
   ]
  },
  {
   "cell_type": "code",
   "execution_count": 4,
   "metadata": {},
   "outputs": [],
   "source": [
    "genai.configure(api_key = google_api_key)"
   ]
  },
  {
   "cell_type": "code",
   "execution_count": 5,
   "metadata": {},
   "outputs": [],
   "source": [
    "model = Gemini(models = 'gemini-pro', api_key = google_api_key)"
   ]
  },
  {
   "cell_type": "code",
   "execution_count": 6,
   "metadata": {},
   "outputs": [],
   "source": [
    "from llama_index.core.node_parser import SentenceSplitter\n",
    "Settings.llm = Gemini(api_key=google_api_key)\n",
    "Settings.embed_model = GeminiEmbedding(model=\"gemini-pro\")\n",
    "Settings.node_parser = SentenceSplitter(chunk_size=800, chunk_overlap=20)"
   ]
  },
  {
   "cell_type": "code",
   "execution_count": 7,
   "metadata": {},
   "outputs": [],
   "source": [
    "index = VectorStoreIndex.from_documents(\n",
    "    doc, embed_model=Settings.embed_model\n",
    ")"
   ]
  },
  {
   "cell_type": "code",
   "execution_count": 8,
   "metadata": {},
   "outputs": [],
   "source": [
    "index.storage_context.persist()"
   ]
  },
  {
   "cell_type": "code",
   "execution_count": 9,
   "metadata": {},
   "outputs": [],
   "source": [
    "query_engine = index.as_query_engine(llm=Settings.llm)"
   ]
  },
  {
   "cell_type": "code",
   "execution_count": 10,
   "metadata": {},
   "outputs": [
    {
     "name": "stdout",
     "output_type": "stream",
     "text": [
      "Here is a detailed itinerary for a 6-day adventure in Chitral:\n",
      "\n",
      "**Day 1: Chitral Town Exploration**\n",
      "\n",
      "*   Explore Chitral Town.\n",
      "\n",
      "**Day 2: Kalash Valley Adventure**\n",
      "\n",
      "*   Morning: Visit Bumburate, one of the main Kalash valleys. Explore the beautiful valley and interact with the Kalash people, known for their distinct culture and pagan religion.\n",
      "*   Afternoon: Visit Rumbur Valley and enjoy its picturesque scenery. Have lunch at a local guesthouse in the valley.\n",
      "*   Evening: Head back to Chitral and enjoy a traditional dinner before departure.\n",
      "\n",
      "**Day 3: Garam Chashma Day Trip**\n",
      "\n",
      "*   Morning: After breakfast, head towards Garam Chashma, a hot spring area around 1.5-2 hours from Chitral. Enjoy a relaxing dip in the natural hot springs.\n",
      "*   Afternoon: Visit Garam Chashma Village and its nearby lush green fields. Have lunch at a local guesthouse or roadside restaurant.\n",
      "*   Evening: Return to Chitral and enjoy the serene views of the surrounding mountains.\n",
      "\n",
      "**Day 4: Visit to Mastuj and Shandur Pass**\n",
      "\n",
      "*   Visit Mastuj and Shandur Pass\n",
      "\n",
      "**Day 5: Chitral Gol National Park and Museum Tour**\n",
      "\n",
      "*   Morning: Spend the morning at Chitral Gol National Park. Go for a hike in the park and enjoy bird watching or photography. Visit Chitral Museum to learn about the region's history, culture, and wildlife.\n",
      "*   Afternoon: Have lunch at a local restaurant. Explore the Kalash Culture Museum in Chitral, which displays artifacts from the Kalash people.\n",
      "*   Evening: Take a walk along the Chitral River to unwind and enjoy the tranquility of the area.\n",
      "\n",
      "**Day 6: Explore Chitral’s Surroundings and Departure**\n",
      "\n",
      "*   Morning: Take a scenic drive to Torkhow Valley (around 2 hours from Chitral), which is known for its natural beauty and picturesque villages. Have a short hike or explore the valley on foot.\n",
      "*   Afternoon: Head back to Chitral town. Stop by Kunar River to enjoy the serene waters and beautiful landscapes.\n",
      "\n",
      "I am sorry, I cannot provide recommendations for economical hotels to stay at.\n",
      "\n"
     ]
    }
   ],
   "source": [
    "query = query_engine.query(\"Build me a detailed itinerary for Chitral for the 6 days trip. Cover the scenic sites and also tell me in detail about every site in chitral Also suggest me the economical hotels to stay at. And please explain everything in detail \")\n",
    "print(query)"
   ]
  },
  {
   "cell_type": "code",
   "execution_count": 11,
   "metadata": {},
   "outputs": [],
   "source": [
    "import textwrap\n",
    "import pathlib\n",
    "from IPython.display import display\n",
    "from IPython.display import Markdown\n",
    "def to_markdown(text):\n",
    "  text = text.replace('•', '  *')\n",
    "  return Markdown(textwrap.indent(text, '> ', predicate=lambda _: True))"
   ]
  },
  {
   "cell_type": "code",
   "execution_count": 12,
   "metadata": {},
   "outputs": [
    {
     "data": {
      "text/markdown": [
       "> Here is a detailed itinerary for a 6-day adventure in Chitral:\n",
       "> \n",
       "> **Day 1: Chitral Town Exploration**\n",
       "> \n",
       "> *   Explore Chitral Town.\n",
       "> \n",
       "> **Day 2: Kalash Valley Adventure**\n",
       "> \n",
       "> *   Morning: Visit Bumburate, one of the main Kalash valleys. Explore the beautiful valley and interact with the Kalash people, known for their distinct culture and pagan religion.\n",
       "> *   Afternoon: Visit Rumbur Valley and enjoy its picturesque scenery. Have lunch at a local guesthouse in the valley.\n",
       "> *   Evening: Head back to Chitral and enjoy a traditional dinner before departure.\n",
       "> \n",
       "> **Day 3: Garam Chashma Day Trip**\n",
       "> \n",
       "> *   Morning: After breakfast, head towards Garam Chashma, a hot spring area around 1.5-2 hours from Chitral. Enjoy a relaxing dip in the natural hot springs.\n",
       "> *   Afternoon: Visit Garam Chashma Village and its nearby lush green fields. Have lunch at a local guesthouse or roadside restaurant.\n",
       "> *   Evening: Return to Chitral and enjoy the serene views of the surrounding mountains.\n",
       "> \n",
       "> **Day 4: Visit to Mastuj and Shandur Pass**\n",
       "> \n",
       "> *   Visit Mastuj and Shandur Pass\n",
       "> \n",
       "> **Day 5: Chitral Gol National Park and Museum Tour**\n",
       "> \n",
       "> *   Morning: Spend the morning at Chitral Gol National Park. Go for a hike in the park and enjoy bird watching or photography. Visit Chitral Museum to learn about the region's history, culture, and wildlife.\n",
       "> *   Afternoon: Have lunch at a local restaurant. Explore the Kalash Culture Museum in Chitral, which displays artifacts from the Kalash people.\n",
       "> *   Evening: Take a walk along the Chitral River to unwind and enjoy the tranquility of the area.\n",
       "> \n",
       "> **Day 6: Explore Chitral’s Surroundings and Departure**\n",
       "> \n",
       "> *   Morning: Take a scenic drive to Torkhow Valley (around 2 hours from Chitral), which is known for its natural beauty and picturesque villages. Have a short hike or explore the valley on foot.\n",
       "> *   Afternoon: Head back to Chitral town. Stop by Kunar River to enjoy the serene waters and beautiful landscapes.\n",
       "> \n",
       "> I am sorry, I cannot provide recommendations for economical hotels to stay at.\n"
      ],
      "text/plain": [
       "<IPython.core.display.Markdown object>"
      ]
     },
     "execution_count": 12,
     "metadata": {},
     "output_type": "execute_result"
    }
   ],
   "source": [
    "to_markdown(query.response)"
   ]
  },
  {
   "cell_type": "code",
   "execution_count": null,
   "metadata": {},
   "outputs": [],
   "source": []
  },
  {
   "cell_type": "code",
   "execution_count": null,
   "metadata": {},
   "outputs": [],
   "source": []
  }
 ],
 "metadata": {
  "kernelspec": {
   "display_name": "env",
   "language": "python",
   "name": "python3"
  },
  "language_info": {
   "codemirror_mode": {
    "name": "ipython",
    "version": 3
   },
   "file_extension": ".py",
   "mimetype": "text/x-python",
   "name": "python",
   "nbconvert_exporter": "python",
   "pygments_lexer": "ipython3",
   "version": "3.13.0"
  }
 },
 "nbformat": 4,
 "nbformat_minor": 2
}
