{
 "cells": [
  {
   "cell_type": "code",
   "execution_count": 24,
   "metadata": {},
   "outputs": [
    {
     "name": "stdout",
     "output_type": "stream",
     "text": [
      "Places  in  Chitral:  \n",
      "Chitral  Gol  National  Park  \n",
      "●  Best  Time  to  Visit:  May-June  (Spring  season  for  blooming  flowers)  ●  Overview:  This  park  is  a  haven  for  nature  lovers,  featuring  stunning  landscapes,  \n",
      "unique\n",
      " \n",
      "flora,\n",
      " \n",
      "and\n",
      " \n",
      "fauna.\n",
      " \n",
      "It\n",
      " \n",
      "is\n",
      " \n",
      "home\n",
      " \n",
      "to\n",
      " \n",
      "the\n",
      " \n",
      "famous\n",
      " \n",
      "Markhor\n",
      " \n",
      "(wild\n",
      " \n",
      "goat),\n",
      " \n",
      "snow\n",
      " \n",
      "leopards,\n",
      " \n",
      "and\n",
      " \n",
      "various\n",
      " \n",
      "bird\n",
      " \n",
      "species.\n",
      " \n",
      "It’s\n",
      " \n",
      "a\n",
      " \n",
      "paradise\n",
      " \n",
      "for\n",
      " \n",
      "wildlife\n",
      " \n",
      "enthusiasts\n",
      " \n",
      "and\n",
      " \n",
      "trekkers.\n",
      " ●  Accommodation:  ○  Economy:  Chitral  Serena  Inn  (offers  basic  amenities  and  is  budget-friendly).  ○  Deluxe:  PTDC  Motel  Chitral  (comfortable  rooms  with  scenic  views).  \n",
      " \n",
      "Kalash  Valleys  (Bumburet,  Rumbur,  Birir)  \n",
      "●  Best  Time  to  Visit:  Spring  (April-May)  or  Autumn  (September-October)  for  pleasant  \n",
      "weather.\n",
      " ●  Overview:  Known  for  their  unique  culture  and  vibrant  festivals,  these  valleys  are  \n",
      "home\n",
      " \n",
      "to\n",
      " \n",
      "the\n",
      " \n",
      "Kalash\n",
      " \n",
      "people,\n",
      " \n",
      "an\n",
      " \n",
      "indigenous\n",
      " \n",
      "community\n",
      " \n",
      "with\n",
      " \n",
      "a\n",
      " \n",
      "distinct\n",
      " \n",
      "way\n",
      " \n",
      "of\n",
      " \n",
      "life.\n",
      " \n",
      "Visitors\n",
      " \n",
      "can\n",
      " \n",
      "enjoy\n",
      " \n",
      "lush\n",
      " \n",
      "green\n",
      " \n",
      "landscapes,\n",
      " \n",
      "traditional\n",
      " \n",
      "wooden\n",
      " \n",
      "houses,\n",
      " \n",
      "and\n",
      " \n",
      "lively\n",
      " \n",
      "celebrations.\n",
      " ●  Accommodation:  ○  Economy:  Guesthouses  and  homestays  within  the  valleys  for  an  authentic  \n",
      "experience.\n",
      " ○  Deluxe:  Limited  options—consider  staying  in  Chitral  town  and  day-tripping  to  \n",
      "the\n",
      " \n",
      "valleys.\n",
      " \n",
      " \n",
      "Shandur  Pass  \n",
      "●  Best  Time  to  Visit:  July-August  for  the  Shandur  Polo  Festival,  an  exciting  event  \n",
      "showcasing\n",
      " \n",
      "traditional\n",
      " \n",
      "polo\n",
      " \n",
      "matches.\n",
      " ●  Overview:  Known  as  the  \"Roof  of  the  World,\"  this  high-altitude  pass  offers  \n",
      "breathtaking\n",
      " \n",
      "views\n",
      " \n",
      "of\n",
      " \n",
      "surrounding\n",
      " \n",
      "peaks.\n",
      " \n",
      "It’s\n",
      " \n",
      "a\n",
      " \n",
      "must-visit\n",
      " \n",
      "for\n",
      " \n",
      "adventure\n",
      " \n",
      "seekers\n",
      " \n",
      "and\n",
      " \n",
      "cultural\n",
      " \n",
      "enthusiasts\n",
      " \n",
      "during\n",
      " \n",
      "the\n",
      " \n",
      "festival.\n",
      " ●  Accommodation:  ○  Economy:  Camps  and  basic  guesthouses  available  near  the  pass  during  the  \n",
      "festival.\n",
      " ○  Deluxe:  Limited  options—camping  is  the  most  common  accommodation.  \n",
      " \n",
      "Chitral  Fort  \n",
      "●  Best  Time  to  Visit:  Year-round.\n"
     ]
    }
   ],
   "source": [
    "from llama_index.llms.gemini import Gemini\n",
    "import google.generativeai as genai\n",
    "from llama_index.core import SimpleDirectoryReader\n",
    "from llama_index.core import VectorStoreIndex\n",
    "from IPython.display import Markdown, display\n",
    "from llama_index.core import Settings\n",
    "from llama_index.core import StorageContext, load_index_from_storage\n",
    "from llama_index.embeddings.gemini import GeminiEmbedding\n",
    "\n",
    "documents = SimpleDirectoryReader(\"Data\").load_data()\n",
    "doc = documents\n",
    "print(doc[0].text)"
   ]
  },
  {
   "cell_type": "code",
   "execution_count": 25,
   "metadata": {},
   "outputs": [],
   "source": [
    "gemini_embed_model = GeminiEmbedding(model_name = \"models/embedding-001\")"
   ]
  },
  {
   "cell_type": "code",
   "execution_count": 26,
   "metadata": {},
   "outputs": [],
   "source": [
    "import os\n",
    "google_api_key = os.getenv(\"GOOGLE_API_KEY\")"
   ]
  },
  {
   "cell_type": "code",
   "execution_count": 27,
   "metadata": {},
   "outputs": [],
   "source": [
    "genai.configure(api_key = google_api_key)"
   ]
  },
  {
   "cell_type": "code",
   "execution_count": 28,
   "metadata": {},
   "outputs": [],
   "source": [
    "model = Gemini(models = 'gemini-pro', api_key = google_api_key)"
   ]
  },
  {
   "cell_type": "code",
   "execution_count": 29,
   "metadata": {},
   "outputs": [],
   "source": [
    "from llama_index.core.node_parser import SentenceSplitter\n",
    "Settings.llm = Gemini(api_key=google_api_key)\n",
    "Settings.embed_model = GeminiEmbedding(model=\"gemini-pro\")\n",
    "Settings.node_parser = SentenceSplitter(chunk_size=512, chunk_overlap=50)"
   ]
  },
  {
   "cell_type": "code",
   "execution_count": 30,
   "metadata": {},
   "outputs": [],
   "source": [
    "index = VectorStoreIndex.from_documents(\n",
    "    doc, embed_model=Settings.embed_model\n",
    ")"
   ]
  },
  {
   "cell_type": "code",
   "execution_count": 31,
   "metadata": {},
   "outputs": [],
   "source": [
    "index.storage_context.persist()"
   ]
  },
  {
   "cell_type": "code",
   "execution_count": 32,
   "metadata": {},
   "outputs": [],
   "source": [
    "query_engine = index.as_query_engine(llm=Settings.llm)"
   ]
  },
  {
   "cell_type": "code",
   "execution_count": 33,
   "metadata": {},
   "outputs": [
    {
     "name": "stdout",
     "output_type": "stream",
     "text": [
      "Here is a detailed itinerary for a 6-day adventure in Chitral:\n",
      "\n",
      "**Day 1: Chitral Town Exploration**\n",
      "\n",
      "**Day 2: Kalash Valley Adventure**\n",
      "\n",
      "**Day 3: Garam Chashma Day Trip**\n",
      "\n",
      "**Day 4: Visit to Mastuj and Shandur Pass**\n",
      "\n",
      "**Day 5: Chitral Gol National Park and Museum Tour**\n",
      "\n",
      "*   Morning: Spend the morning at Chitral Gol National Park, hike, and enjoy bird watching or photography. Visit Chitral Museum to learn about the region's history, culture, and wildlife.\n",
      "*   Afternoon: Have lunch at a local restaurant. Explore the Kalash Culture Museum in Chitral, which displays artifacts from the Kalash people.\n",
      "\n",
      "**Day 6: Explore Chitral’s Surroundings and Departure**\n",
      "\n",
      "*   Morning: Take a scenic drive to Torkhow Valley (around 2 hours from Chitral), which is known for its natural beauty and picturesque villages. Have a short hike or explore the valley on foot.\n",
      "*   Afternoon: Head back to Chitral town and stop by Kunar River to enjoy the serene waters and beautiful landscapes.\n",
      "*   Evening: Have a farewell dinner in Chitral, featuring traditional dishes like chapshoro, kebabs, or a local stew. You can also explore Chitral Gol National Park further or visit the nearby Bumburate Valley for a peaceful afternoon.\n",
      "\n",
      "\n"
     ]
    }
   ],
   "source": [
    "query = query_engine.query(\"Build me a detailed itinerary for Chitral for the 6 days trip. Cover the scenic sites and also tell me in detail about every site in chitral Also suggest me the economical hotels to stay at. And please explain everything in detail \")\n",
    "print(query)"
   ]
  },
  {
   "cell_type": "code",
   "execution_count": 34,
   "metadata": {},
   "outputs": [],
   "source": [
    "import textwrap\n",
    "import pathlib\n",
    "from IPython.display import display\n",
    "from IPython.display import Markdown\n",
    "def to_markdown(text):\n",
    "  text = text.replace('•', '  *')\n",
    "  return Markdown(textwrap.indent(text, '> ', predicate=lambda _: True))"
   ]
  },
  {
   "cell_type": "code",
   "execution_count": 35,
   "metadata": {},
   "outputs": [
    {
     "data": {
      "text/markdown": [
       "> Here is a detailed itinerary for a 6-day adventure in Chitral:\n",
       "> \n",
       "> **Day 1: Chitral Town Exploration**\n",
       "> \n",
       "> **Day 2: Kalash Valley Adventure**\n",
       "> \n",
       "> **Day 3: Garam Chashma Day Trip**\n",
       "> \n",
       "> **Day 4: Visit to Mastuj and Shandur Pass**\n",
       "> \n",
       "> **Day 5: Chitral Gol National Park and Museum Tour**\n",
       "> \n",
       "> *   Morning: Spend the morning at Chitral Gol National Park, hike, and enjoy bird watching or photography. Visit Chitral Museum to learn about the region's history, culture, and wildlife.\n",
       "> *   Afternoon: Have lunch at a local restaurant. Explore the Kalash Culture Museum in Chitral, which displays artifacts from the Kalash people.\n",
       "> \n",
       "> **Day 6: Explore Chitral’s Surroundings and Departure**\n",
       "> \n",
       "> *   Morning: Take a scenic drive to Torkhow Valley (around 2 hours from Chitral), which is known for its natural beauty and picturesque villages. Have a short hike or explore the valley on foot.\n",
       "> *   Afternoon: Head back to Chitral town and stop by Kunar River to enjoy the serene waters and beautiful landscapes.\n",
       "> *   Evening: Have a farewell dinner in Chitral, featuring traditional dishes like chapshoro, kebabs, or a local stew. You can also explore Chitral Gol National Park further or visit the nearby Bumburate Valley for a peaceful afternoon.\n",
       "> \n"
      ],
      "text/plain": [
       "<IPython.core.display.Markdown object>"
      ]
     },
     "execution_count": 35,
     "metadata": {},
     "output_type": "execute_result"
    }
   ],
   "source": [
    "to_markdown(query.response)"
   ]
  },
  {
   "cell_type": "code",
   "execution_count": null,
   "metadata": {},
   "outputs": [],
   "source": []
  },
  {
   "cell_type": "code",
   "execution_count": null,
   "metadata": {},
   "outputs": [],
   "source": []
  },
  {
   "cell_type": "code",
   "execution_count": null,
   "metadata": {},
   "outputs": [],
   "source": []
  }
 ],
 "metadata": {
  "kernelspec": {
   "display_name": "env",
   "language": "python",
   "name": "python3"
  },
  "language_info": {
   "codemirror_mode": {
    "name": "ipython",
    "version": 3
   },
   "file_extension": ".py",
   "mimetype": "text/x-python",
   "name": "python",
   "nbconvert_exporter": "python",
   "pygments_lexer": "ipython3",
   "version": "3.13.0"
  }
 },
 "nbformat": 4,
 "nbformat_minor": 2
}
